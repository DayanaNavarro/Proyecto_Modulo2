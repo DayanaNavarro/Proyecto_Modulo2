{
 "cells": [
  {
   "cell_type": "markdown",
   "metadata": {},
   "source": [
    "# PROYETO DE ANALISIS DE ACCIONES \n",
    "\n",
    "## OBJETIVOS \n",
    "\n",
    "> ### GENERAL\n",
    "\n",
    "+ Realizar el analisis de las acciones de cuatro empresas para saber que tan arriesgado o conveniente sería invertir en ellas.\n",
    "\n",
    "> ### ESPECIFICOS\n",
    "\n",
    "+ Conocer los precios de cierre de las acciones de las compañias elegidas \n",
    "\n",
    "+ Proyectar esos precios y que de acuerdo a eso sacar las probabilidades de los precios  del siguiente año sobrepasaran un precio umbral.\n",
    "\n",
    "+ Simular escenarios de rendimientos diarios para el 2018.\n",
    "\n",
    "+ Calcular las probabilidades en base a una tasa de interes anual deseada.\n",
    "\n",
    "+ Conocer los precios en el 2018 y comparar los precios reales respecto a los simulados.\n",
    "\n",
    "# MODELO QUE REPRESENTA EL PROBLEMA \n",
    "\n",
    "## SITUACIÓN QUE REPRESENTA EL MODELO \n",
    "\n",
    "Tenemos dos empresas, Tesla, Netflix, Microsoft y Apple, estas son muy diferentes una respecto a la otra, las primeras dos son muy volatil así como puede hacernos ganar mucho también podemos perder mucho, su reacción al movimiento del mercado es muy fuerte, son acciones muy sensibles y no estables; al contrario de las segundas, el movimiento del mercado les afecta en un menor grado, son más estable y menos sensibles ya que son de las empresas que mueve el mercado, su inversión es más \"segura\", por llamarlo de alguna manera, ya que su perdida al igual que su ganancia es mucho más baja a comparación de la primera.\n",
    "\n",
    "Ya que una regla fundamental en las acciones es que a mayor riesgo más ganancia o más perdida y a menor riesgo menor rendimiento y menor perdida.\n",
    "\n",
    "Son dos empresas distintas por lo que nos pareció interesante estudiarlas.\n",
    "\n",
    "## LIMITACIONES\n",
    "\n",
    "+ Son empresas muy distintas entre sí, se dedican a cosas difentes.\n",
    "+ No comparten la estabilidad ni la volatibidad de la otra.\n"
   ]
  },
  {
   "cell_type": "markdown",
   "metadata": {},
   "source": [
    "### ECUACIONES QUE RIGEN EL PROBLEMA Y DEDUCCIÓN"
   ]
  },
  {
   "cell_type": "markdown",
   "metadata": {},
   "source": [
    " #### Función DataReader\n",
    "\n",
    "close= get_closes(name,start, end)\n",
    "close\n",
    "\n",
    "#### FUNCION PARA UNA SUCESIÓN DE PRECIOS \n",
    "\n",
    "Para una sucesión de precios $\\{S_t\\}_{t=0}^{n}$, el rendimiento simple $R_t$ se define como el cambio porcentual\n",
    "\n",
    "$$\n",
    "R_t=\\frac{S_t-S_{t-1}}{S_{t-1}}\\approx \\ln\\left(\\frac{S_t}{S_{t-1}}\\right)=r_t.\n",
    "$$\n",
    "\n",
    "para $t=1,\\ldots,n$.\n",
    "\n",
    "\n"
   ]
  },
  {
   "cell_type": "markdown",
   "metadata": {},
   "source": [
    "#### DIFERENCIA LOGAROTMICA DE LOS PRECIOS \n",
    "\n",
    "\n",
    "ret=np.log(close/close.shift()).dropna()"
   ]
  },
  {
   "cell_type": "markdown",
   "metadata": {},
   "source": [
    "#### MEDIA Y DESVIACIÓN ESTANDAR \n",
    "\n",
    "Además, supusimos que los rendimientos diarios eran una variable aleatoria con distribución normal (que se caracteriza con su media y varianza). Por tanto obtenemos la media y desviación estandar muestrales.\n",
    "\n",
    "mu=ret.mean()\n",
    "sigma=ret.std()\n",
    "mu,sigma\n",
    "\n",
    "#### RENDIMIENTOS DIARIOS \n",
    "\n",
    "ret=close.pct_change().dropna()\n",
    "\n",
    "#### FUNCIÓN RANDOM\n",
    "\n",
    "np.random.randn\n",
    "\n",
    "#### FUNCIÓN PARA SIMULAR ESCENARIOS \n",
    "\n",
    "dates = pd.date_range(start=start_date, periods=ndays)\n",
    "rend_sim = sigma*np.random.randn(ndays,nscen) + mu\n",
    "\n"
   ]
  },
  {
   "cell_type": "markdown",
   "metadata": {},
   "source": [
    "#### PROYECCIÓN DE PRECIOS DE CIERRE\n",
    "\n",
    "Por tanto, para calcular los precios, tenemos:\n",
    "\n",
    "$$\\begin{align}\n",
    "p_i&=p_{i-1}(R_i+1)\\\\\n",
    "p_{i+1}&=p_i(R_{i+1}+1)=p_{i-1}(R_i+1)(R_{i+1}+1)\\\\\n",
    "&\\vdots\\\\\n",
    "p_{i+k}&=p_{i-1}(R_i+1)\\cdots(R_{i+k}+1).\n",
    "\\end{align}$$\n",
    "\n",
    "Si hacemos $i=0$ en la última ecuación, tenemos que $p_{k}=p_{-1}(R_0+1)\\cdots(R_{k}+1)$, donde $p_{-1}$ es el último precio reportado en el 2017."
   ]
  },
  {
   "cell_type": "markdown",
   "metadata": {},
   "source": [
    "simcloses = close.iloc[-1]*((1+rend_sim).cumprod())"
   ]
  },
  {
   "cell_type": "markdown",
   "metadata": {},
   "source": [
    "#### Umbral del ultimo precio\n",
    "\n",
    "K=close.iloc[-1]*1.3"
   ]
  },
  {
   "cell_type": "markdown",
   "metadata": {},
   "source": [
    "## PARÁMETROS"
   ]
  },
  {
   "cell_type": "markdown",
   "metadata": {},
   "source": [
    "+ Parametros aleatorios \n",
    "+ Parametros probabilisticos \n",
    ":)"
   ]
  },
  {
   "cell_type": "code",
   "execution_count": null,
   "metadata": {},
   "outputs": [],
   "source": []
  }
 ],
 "metadata": {
  "kernelspec": {
   "display_name": "Python 3",
   "language": "python",
   "name": "python3"
  },
  "language_info": {
   "codemirror_mode": {
    "name": "ipython",
    "version": 3
   },
   "file_extension": ".py",
   "mimetype": "text/x-python",
   "name": "python",
   "nbconvert_exporter": "python",
   "pygments_lexer": "ipython3",
   "version": "3.7.3"
  }
 },
 "nbformat": 4,
 "nbformat_minor": 4
}
